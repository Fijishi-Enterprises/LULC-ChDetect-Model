{
 "cells": [
  {
   "cell_type": "code",
   "execution_count": 2,
   "id": "f0d73421-e2a5-41e0-91ed-64e84bb0233f",
   "metadata": {},
   "outputs": [],
   "source": [
    "import os\n",
    "\n",
    "import demeter\n",
    "\n",
    "import numpy as np\n",
    "import pandas as pd\n"
   ]
  },
  {
   "cell_type": "code",
   "execution_count": 3,
   "id": "ff4589c1-244a-4b9d-b9c2-1fa1d8ed6b6a",
   "metadata": {},
   "outputs": [],
   "source": [
    "data_dir = \"/Users/d3y010/projects/demeter/chen/demeter_inputs_chen_et_al_2020a\"\n",
    "\n",
    "observed_dir = os.path.join(data_dir, 'inputs', 'observed')\n",
    "projected_dir = os.path.join(data_dir, 'inputs', 'projected')\n",
    "constraints_dir = os.path.join(data_dir, 'inputs', 'constraints')\n",
    "\n",
    "base_layer_file = os.path.join(observed_dir, \"baselayerdata_region_basin_0.05deg.csv\")\n",
    "out_base_layer_file = os.path.join(observed_dir, \"conus_baselayerdata_region_basin_0.05deg.csv\")\n",
    "\n",
    "proj_file = os.path.join(projected_dir, \"ssp1_rcp45_ipsl_fordownscaling.csv\")\n",
    "out_proj_file = os.path.join(projected_dir, \"conus_ssp1_rcp45_ipsl_fordownscaling.csv\")\n",
    "\n",
    "nut_avail_file = os.path.join(constraints_dir, 'orig_000_nutrientavail_hswd_NA_0.05.csv')\n",
    "out_nut_avail_file = os.path.join(constraints_dir, '000_nutrientavail_hswd_NA_0.05.csv')\n",
    "\n",
    "soil_file = os.path.join(constraints_dir, 'orig_001_soilquality_hswd_0.05.csv')\n",
    "out_soil_file = os.path.join(constraints_dir, '001_soilquality_hswd_0.05.csv')\n",
    "\n",
    "config_file = os.path.join(data_dir, 'conus_config.ini-ssp1_rcp45_ipsl_fordownscaling')\n"
   ]
  },
  {
   "cell_type": "code",
   "execution_count": 4,
   "id": "7d702c01-c48c-45f9-b6b1-be99cf8a9246",
   "metadata": {},
   "outputs": [],
   "source": [
    "bdf = pd.read_csv(base_layer_file)\n"
   ]
  },
  {
   "cell_type": "code",
   "execution_count": 9,
   "id": "75530260-d583-4f2d-9ccb-7d9f84947830",
   "metadata": {},
   "outputs": [
    {
     "data": {
      "text/plain": [
       "Index(['Latcoord', 'Loncoord', 'water', 'PFT1', 'PFT2', 'PFT3', 'PFT4', 'PFT5',\n",
       "       'PFT6', 'PFT7', 'PFT8', 'PFT9', 'PFT10', 'PFT11', 'PFT12', 'PFT13',\n",
       "       'PFT14', 'PFT15', 'PFT16', 'PFT17', 'PFT18', 'PFT19', 'PFT20', 'PFT21',\n",
       "       'PFT22', 'PFT23', 'PFT24', 'PFT25', 'PFT26', 'PFT27', 'PFT28', 'PFT29',\n",
       "       'PFT30', 'PFT31', 'PFT32', 'PFT33', 'PFT34', 'PFT35', 'PFT36', 'PFT37',\n",
       "       'PFT38', 'PFT39', 'PFT40', 'PFT41', 'PFT42', 'PFT43', 'PFT44', 'PFT45',\n",
       "       'PFT46', 'PFT47', 'PFT48', 'PFT49', 'PFT50', 'PFT51', 'PFT52', 'PFT53',\n",
       "       'PFT54', 'PFT55', 'PFT56', 'PFT57', 'PFT58', 'PFT59', 'PFT60', 'PFT61',\n",
       "       'PFT62', 'PFT63', 'PFT64', 'PFT65', 'PFT66', 'PFT67', 'PFT68', 'PFT69',\n",
       "       'PFT70', 'PFT71', 'PFT72', 'PFT73', 'PFT74', 'PFT75', 'PFT76', 'PFT77',\n",
       "       'PFT78', 'PFT79', 'region_id', 'basin_id', 'fid'],\n",
       "      dtype='object')"
      ]
     },
     "execution_count": 9,
     "metadata": {},
     "output_type": "execute_result"
    }
   ],
   "source": [
    "bdf.columns\n"
   ]
  },
  {
   "cell_type": "code",
   "execution_count": 8,
   "id": "9542e67e-db96-4375-b35f-267301e923d4",
   "metadata": {},
   "outputs": [
    {
     "data": {
      "text/plain": [
       "[1,\n",
       " 2,\n",
       " 3,\n",
       " 4,\n",
       " 5,\n",
       " 6,\n",
       " 7,\n",
       " 8,\n",
       " 9,\n",
       " 10,\n",
       " 11,\n",
       " 12,\n",
       " 13,\n",
       " 14,\n",
       " 15,\n",
       " 16,\n",
       " 17,\n",
       " 18,\n",
       " 19,\n",
       " 20,\n",
       " 21,\n",
       " 22,\n",
       " 23,\n",
       " 24,\n",
       " 25,\n",
       " 26,\n",
       " 27,\n",
       " 28,\n",
       " 29,\n",
       " 30,\n",
       " 31]"
      ]
     },
     "execution_count": 8,
     "metadata": {},
     "output_type": "execute_result"
    }
   ],
   "source": [
    "sorted(bdf.region_id.unique())"
   ]
  },
  {
   "cell_type": "code",
   "execution_count": null,
   "id": "57f90be4-e59c-490a-b108-a82186166dd0",
   "metadata": {},
   "outputs": [],
   "source": []
  },
  {
   "cell_type": "code",
   "execution_count": null,
   "id": "9c5fb83b-07e6-4c4c-a535-acfe6bcde41a",
   "metadata": {},
   "outputs": [],
   "source": []
  },
  {
   "cell_type": "code",
   "execution_count": null,
   "id": "3571d563-71e3-4510-ad81-78eca9475985",
   "metadata": {},
   "outputs": [],
   "source": []
  },
  {
   "cell_type": "markdown",
   "id": "590d98a0-21f6-4620-be2b-84a60258fefa",
   "metadata": {},
   "source": [
    "## Reformat the input data to run sequentially by basin id"
   ]
  },
  {
   "cell_type": "markdown",
   "id": "be5ddea2-ec96-4b20-be20-cdf5ff3baf85",
   "metadata": {},
   "source": [
    "### Only keep the basins that are in the CONUS"
   ]
  },
  {
   "cell_type": "code",
   "execution_count": 28,
   "id": "f68b93ef-fa95-4d15-9b3f-dd0cf16c1956",
   "metadata": {},
   "outputs": [],
   "source": [
    "conus_basin_list = [23, 27, 96, 212, 213, 214, 215, 216, \n",
    "                    217, 218, 219, 220, 221, 222, 223, \n",
    "                    224, 225, 226, 227, 228]\n"
   ]
  },
  {
   "cell_type": "code",
   "execution_count": 47,
   "id": "1978fc43-36d3-4fcb-8089-3e4d916fcf17",
   "metadata": {},
   "outputs": [],
   "source": [
    "# build dict of sequential assignment to each basin id\n",
    "conus_basin_reorder = {i: index for index, i in enumerate(sorted(conus_basin_list), 1)}\n"
   ]
  },
  {
   "cell_type": "markdown",
   "id": "53d54789-3116-4d5a-a0d8-e2d490abe2c8",
   "metadata": {},
   "source": [
    "### Base layer"
   ]
  },
  {
   "cell_type": "code",
   "execution_count": 60,
   "id": "8e43fe0b-1fd8-4719-9b09-e64799555c4e",
   "metadata": {},
   "outputs": [],
   "source": [
    "# build dict of sequential assignment to each fid\n",
    "conus_fid_reorder = {i: index for index, i in enumerate(sorted(usf['fid'].values), 1)}\n"
   ]
  },
  {
   "cell_type": "code",
   "execution_count": 64,
   "id": "dafa1c30-cc1a-45d7-be01-aa298727ad8d",
   "metadata": {},
   "outputs": [],
   "source": [
    "usf = bdf.loc[(bdf['region_id'] == 1) & (bdf['basin_id'].isin(conus_basin_list))].copy()\n",
    "\n",
    "# rename the existing basin_id to be sequential\n",
    "usf['orig_basin_id'] = usf['basin_id']\n",
    "\n",
    "usf['basin_id'] = usf['orig_basin_id'].map(conus_basin_reorder)\n",
    "\n",
    "# rename the existing basin_id to be sequential\n",
    "usf['orig_fid'] = usf['fid']\n",
    "\n",
    "usf['fid'] = usf['orig_fid'].map(conus_fid_reorder)\n",
    "\n",
    "usf.to_csv(out_base_layer_file, index=False)\n"
   ]
  },
  {
   "cell_type": "markdown",
   "id": "59c1e140-6268-44e5-a44f-45f5b539f69f",
   "metadata": {},
   "source": [
    "### Projected data"
   ]
  },
  {
   "cell_type": "code",
   "execution_count": 75,
   "id": "ef3d8da0-0b70-4e7f-b3df-54127c9f4247",
   "metadata": {},
   "outputs": [
    {
     "data": {
      "text/html": [
       "<div>\n",
       "<style scoped>\n",
       "    .dataframe tbody tr th:only-of-type {\n",
       "        vertical-align: middle;\n",
       "    }\n",
       "\n",
       "    .dataframe tbody tr th {\n",
       "        vertical-align: top;\n",
       "    }\n",
       "\n",
       "    .dataframe thead th {\n",
       "        text-align: right;\n",
       "    }\n",
       "</style>\n",
       "<table border=\"1\" class=\"dataframe\">\n",
       "  <thead>\n",
       "    <tr style=\"text-align: right;\">\n",
       "      <th></th>\n",
       "      <th>region</th>\n",
       "      <th>landclass</th>\n",
       "      <th>metric_id</th>\n",
       "      <th>1975</th>\n",
       "      <th>1990</th>\n",
       "      <th>2005</th>\n",
       "      <th>2010</th>\n",
       "      <th>2015</th>\n",
       "      <th>2020</th>\n",
       "      <th>2025</th>\n",
       "      <th>...</th>\n",
       "      <th>2065</th>\n",
       "      <th>2070</th>\n",
       "      <th>2075</th>\n",
       "      <th>2080</th>\n",
       "      <th>2085</th>\n",
       "      <th>2090</th>\n",
       "      <th>2095</th>\n",
       "      <th>2100</th>\n",
       "      <th>Units</th>\n",
       "      <th>orig_metric_id</th>\n",
       "    </tr>\n",
       "  </thead>\n",
       "  <tbody>\n",
       "    <tr>\n",
       "      <th>0</th>\n",
       "      <td>USA</td>\n",
       "      <td>biomass-grass_IRR</td>\n",
       "      <td>1</td>\n",
       "      <td>0.0</td>\n",
       "      <td>0.0</td>\n",
       "      <td>0.0</td>\n",
       "      <td>0.0</td>\n",
       "      <td>0.0</td>\n",
       "      <td>0.004148</td>\n",
       "      <td>0.006625</td>\n",
       "      <td>...</td>\n",
       "      <td>0.033583</td>\n",
       "      <td>0.035399</td>\n",
       "      <td>0.035369</td>\n",
       "      <td>0.036474</td>\n",
       "      <td>0.036631</td>\n",
       "      <td>0.037527</td>\n",
       "      <td>0.038494</td>\n",
       "      <td>0.037726</td>\n",
       "      <td>thous km2</td>\n",
       "      <td>23</td>\n",
       "    </tr>\n",
       "    <tr>\n",
       "      <th>1</th>\n",
       "      <td>USA</td>\n",
       "      <td>biomass-grass_IRR</td>\n",
       "      <td>2</td>\n",
       "      <td>0.0</td>\n",
       "      <td>0.0</td>\n",
       "      <td>0.0</td>\n",
       "      <td>0.0</td>\n",
       "      <td>0.0</td>\n",
       "      <td>0.000077</td>\n",
       "      <td>0.000121</td>\n",
       "      <td>...</td>\n",
       "      <td>0.000447</td>\n",
       "      <td>0.000433</td>\n",
       "      <td>0.000389</td>\n",
       "      <td>0.000363</td>\n",
       "      <td>0.000331</td>\n",
       "      <td>0.000287</td>\n",
       "      <td>0.000251</td>\n",
       "      <td>0.000218</td>\n",
       "      <td>thous km2</td>\n",
       "      <td>27</td>\n",
       "    </tr>\n",
       "    <tr>\n",
       "      <th>2</th>\n",
       "      <td>USA</td>\n",
       "      <td>biomass-grass_IRR</td>\n",
       "      <td>3</td>\n",
       "      <td>0.0</td>\n",
       "      <td>0.0</td>\n",
       "      <td>0.0</td>\n",
       "      <td>0.0</td>\n",
       "      <td>0.0</td>\n",
       "      <td>0.000408</td>\n",
       "      <td>0.000656</td>\n",
       "      <td>...</td>\n",
       "      <td>0.002321</td>\n",
       "      <td>0.002299</td>\n",
       "      <td>0.002751</td>\n",
       "      <td>0.003155</td>\n",
       "      <td>0.003368</td>\n",
       "      <td>0.003354</td>\n",
       "      <td>0.003580</td>\n",
       "      <td>0.004339</td>\n",
       "      <td>thous km2</td>\n",
       "      <td>96</td>\n",
       "    </tr>\n",
       "    <tr>\n",
       "      <th>4</th>\n",
       "      <td>USA</td>\n",
       "      <td>biomass-grass_IRR</td>\n",
       "      <td>4</td>\n",
       "      <td>0.0</td>\n",
       "      <td>0.0</td>\n",
       "      <td>0.0</td>\n",
       "      <td>0.0</td>\n",
       "      <td>0.0</td>\n",
       "      <td>0.220160</td>\n",
       "      <td>0.351013</td>\n",
       "      <td>...</td>\n",
       "      <td>1.784421</td>\n",
       "      <td>1.934343</td>\n",
       "      <td>2.072440</td>\n",
       "      <td>2.226120</td>\n",
       "      <td>2.289190</td>\n",
       "      <td>2.402560</td>\n",
       "      <td>2.548590</td>\n",
       "      <td>2.731680</td>\n",
       "      <td>thous km2</td>\n",
       "      <td>212</td>\n",
       "    </tr>\n",
       "    <tr>\n",
       "      <th>5</th>\n",
       "      <td>USA</td>\n",
       "      <td>biomass-grass_IRR</td>\n",
       "      <td>5</td>\n",
       "      <td>0.0</td>\n",
       "      <td>0.0</td>\n",
       "      <td>0.0</td>\n",
       "      <td>0.0</td>\n",
       "      <td>0.0</td>\n",
       "      <td>0.005857</td>\n",
       "      <td>0.009720</td>\n",
       "      <td>...</td>\n",
       "      <td>0.051175</td>\n",
       "      <td>0.052860</td>\n",
       "      <td>0.055401</td>\n",
       "      <td>0.057011</td>\n",
       "      <td>0.057567</td>\n",
       "      <td>0.057745</td>\n",
       "      <td>0.057548</td>\n",
       "      <td>0.057191</td>\n",
       "      <td>thous km2</td>\n",
       "      <td>213</td>\n",
       "    </tr>\n",
       "  </tbody>\n",
       "</table>\n",
       "<p>5 rows × 27 columns</p>\n",
       "</div>"
      ],
      "text/plain": [
       "  region          landclass  metric_id  1975  1990  2005  2010  2015  \\\n",
       "0    USA  biomass-grass_IRR          1   0.0   0.0   0.0   0.0   0.0   \n",
       "1    USA  biomass-grass_IRR          2   0.0   0.0   0.0   0.0   0.0   \n",
       "2    USA  biomass-grass_IRR          3   0.0   0.0   0.0   0.0   0.0   \n",
       "4    USA  biomass-grass_IRR          4   0.0   0.0   0.0   0.0   0.0   \n",
       "5    USA  biomass-grass_IRR          5   0.0   0.0   0.0   0.0   0.0   \n",
       "\n",
       "       2020      2025  ...      2065      2070      2075      2080      2085  \\\n",
       "0  0.004148  0.006625  ...  0.033583  0.035399  0.035369  0.036474  0.036631   \n",
       "1  0.000077  0.000121  ...  0.000447  0.000433  0.000389  0.000363  0.000331   \n",
       "2  0.000408  0.000656  ...  0.002321  0.002299  0.002751  0.003155  0.003368   \n",
       "4  0.220160  0.351013  ...  1.784421  1.934343  2.072440  2.226120  2.289190   \n",
       "5  0.005857  0.009720  ...  0.051175  0.052860  0.055401  0.057011  0.057567   \n",
       "\n",
       "       2090      2095      2100      Units  orig_metric_id  \n",
       "0  0.037527  0.038494  0.037726  thous km2              23  \n",
       "1  0.000287  0.000251  0.000218  thous km2              27  \n",
       "2  0.003354  0.003580  0.004339  thous km2              96  \n",
       "4  2.402560  2.548590  2.731680  thous km2             212  \n",
       "5  0.057745  0.057548  0.057191  thous km2             213  \n",
       "\n",
       "[5 rows x 27 columns]"
      ]
     },
     "execution_count": 75,
     "metadata": {},
     "output_type": "execute_result"
    }
   ],
   "source": [
    "pdf = pd.read_csv(proj_file)\n",
    "\n",
    "pdf = pdf.loc[(pdf['region'] == \"USA\") & (pdf[\"metric_id\"].isin(conus_basin_list))]\n",
    "\n",
    "# rename the existing basin_id to be sequential\n",
    "pdf['orig_metric_id'] = pdf['metric_id']\n",
    "\n",
    "pdf['metric_id'] = pdf['orig_metric_id'].map(conus_basin_reorder)\n",
    "\n",
    "pdf.to_csv(out_proj_file, index=False)\n",
    "\n",
    "pdf.head()\n"
   ]
  },
  {
   "cell_type": "markdown",
   "id": "fe96d9a2-d08c-4601-9052-b0cab205c030",
   "metadata": {},
   "source": [
    "### Constraints"
   ]
  },
  {
   "cell_type": "code",
   "execution_count": 73,
   "id": "bdd84e32-0211-4134-84fb-7e32b186778f",
   "metadata": {},
   "outputs": [],
   "source": [
    "ndf = pd.read_csv(nut_avail_file, header=None, names=['fid', 'weight'])\n",
    "\n",
    "# rename the existing basin_id to be sequential\n",
    "ndf['fid'] = ndf['fid'].map(conus_fid_reorder)\n",
    "\n",
    "ndf.to_csv(out_nut_avail_file, index=False, header=False)\n"
   ]
  },
  {
   "cell_type": "code",
   "execution_count": 74,
   "id": "58057fe3-aa0b-4b10-b5c4-e3d543585e3d",
   "metadata": {},
   "outputs": [],
   "source": [
    "sdf = pd.read_csv(soil_file, header=None, names=['fid', 'weight'])\n",
    "\n",
    "# rename the existing basin_id to be sequential\n",
    "sdf['fid'] = sdf['fid'].map(conus_fid_reorder)\n",
    "\n",
    "sdf.to_csv(out_soil_file, index=False, header=False)\n"
   ]
  },
  {
   "cell_type": "markdown",
   "id": "4e62be90-556f-4c9b-99c4-b9b6caac05eb",
   "metadata": {},
   "source": [
    "## Run demeter"
   ]
  },
  {
   "cell_type": "code",
   "execution_count": 3,
   "id": "5acc1d4d-87dd-413f-905e-da2342feea59",
   "metadata": {},
   "outputs": [
    {
     "name": "stdout",
     "output_type": "stream",
     "text": [
      "2022-01-19 14:52:39,924 - demeter_runtime - INFO - Using `observed_lu_file`:  /Users/d3y010/projects/demeter/chen/demeter_inputs_chen_et_al_2020a/inputs/observed/baselayerdata_region_basin_0.05deg.csv\n",
      "2022-01-19 14:52:39,926 - demeter_runtime - INFO - Using `run_dir`:  /Users/d3y010/projects/demeter/chen/demeter_inputs_chen_et_al_2020a\n",
      "2022-01-19 14:52:39,927 - demeter_runtime - INFO - START\n",
      "2022-01-19 14:52:39,943 - demeter_runtime - INFO - Reading allocation input files...\n",
      "2022-01-19 14:52:39,988 - demeter_runtime - INFO - PERFORMANCE:  Allocation files processed in 0.04355502128601074 seconds\n",
      "2022-01-19 14:52:39,991 - demeter_runtime - INFO - Preparing projected land use data...\n",
      "2022-01-19 14:52:39,992 - demeter_runtime - INFO - Using projected GCAM data from:  /Users/d3y010/projects/demeter/chen/demeter_inputs_chen_et_al_2020a/inputs/projected/ssp1_rcp45_ipsl_fordownscaling.csv\n",
      "2022-01-19 14:52:40,100 - demeter_runtime - INFO - Number of regions from projected file:  32\n",
      "2022-01-19 14:52:40,101 - demeter_runtime - INFO - Number of basins from projected file:  229\n",
      "2022-01-19 14:52:40,102 - demeter_runtime - INFO - PERFORMANCE:  Projected landuse data prepared in 0.1099083423614502 seconds\n",
      "2022-01-19 14:52:40,102 - demeter_runtime - INFO - Preparing base layer land use data...\n",
      "2022-01-19 14:53:04,507 - demeter_runtime - INFO - PERFORMANCE:  Model completed in 0.40966508388519285 minutes\n",
      "2022-01-19 14:53:04,507 - demeter_runtime - INFO - END\n"
     ]
    },
    {
     "ename": "AttributeError",
     "evalue": "'NoneType' object has no attribute 'error'",
     "output_type": "error",
     "traceback": [
      "\u001b[0;31m---------------------------------------------------------------------------\u001b[0m",
      "\u001b[0;31mAttributeError\u001b[0m                            Traceback (most recent call last)",
      "\u001b[0;32m<ipython-input-3-4d2b16c8e269>\u001b[0m in \u001b[0;36m<module>\u001b[0;34m\u001b[0m\n\u001b[0;32m----> 1\u001b[0;31m \u001b[0mdemeter\u001b[0m\u001b[0;34m.\u001b[0m\u001b[0mrun_model\u001b[0m\u001b[0;34m(\u001b[0m\u001b[0mconfig_file\u001b[0m\u001b[0;34m=\u001b[0m\u001b[0mconfig_file\u001b[0m\u001b[0;34m)\u001b[0m\u001b[0;34m\u001b[0m\u001b[0;34m\u001b[0m\u001b[0m\n\u001b[0m",
      "\u001b[0;32m~/.pyenv/versions/py3.9.4_demeter/lib/python3.9/site-packages/demeter/model.py\u001b[0m in \u001b[0;36mrun_model\u001b[0;34m(**kwargs)\u001b[0m\n\u001b[1;32m     99\u001b[0m \u001b[0;34m\u001b[0m\u001b[0m\n\u001b[1;32m    100\u001b[0m     \u001b[0;31m# run all steps then clean up\u001b[0m\u001b[0;34m\u001b[0m\u001b[0;34m\u001b[0m\u001b[0;34m\u001b[0m\u001b[0m\n\u001b[0;32m--> 101\u001b[0;31m     \u001b[0mmodel\u001b[0m\u001b[0;34m.\u001b[0m\u001b[0mexecute\u001b[0m\u001b[0;34m(\u001b[0m\u001b[0;34m)\u001b[0m\u001b[0;34m\u001b[0m\u001b[0;34m\u001b[0m\u001b[0m\n\u001b[0m\u001b[1;32m    102\u001b[0m \u001b[0;34m\u001b[0m\u001b[0m\n\u001b[1;32m    103\u001b[0m     \u001b[0;32mreturn\u001b[0m \u001b[0mmodel\u001b[0m\u001b[0;34m\u001b[0m\u001b[0;34m\u001b[0m\u001b[0m\n",
      "\u001b[0;32m~/.pyenv/versions/py3.9.4_demeter/lib/python3.9/site-packages/demeter/model.py\u001b[0m in \u001b[0;36mexecute\u001b[0;34m(self)\u001b[0m\n\u001b[1;32m     79\u001b[0m \u001b[0;34m\u001b[0m\u001b[0m\n\u001b[1;32m     80\u001b[0m             \u001b[0;31m# set up pre time step\u001b[0m\u001b[0;34m\u001b[0m\u001b[0;34m\u001b[0m\u001b[0;34m\u001b[0m\u001b[0m\n\u001b[0;32m---> 81\u001b[0;31m             \u001b[0mself\u001b[0m\u001b[0;34m.\u001b[0m\u001b[0minitialize\u001b[0m\u001b[0;34m(\u001b[0m\u001b[0;34m)\u001b[0m\u001b[0;34m\u001b[0m\u001b[0;34m\u001b[0m\u001b[0m\n\u001b[0m\u001b[1;32m     82\u001b[0m \u001b[0;34m\u001b[0m\u001b[0m\n\u001b[1;32m     83\u001b[0m             \u001b[0;31m# run for each time step\u001b[0m\u001b[0;34m\u001b[0m\u001b[0;34m\u001b[0m\u001b[0;34m\u001b[0m\u001b[0m\n",
      "\u001b[0;32m~/.pyenv/versions/py3.9.4_demeter/lib/python3.9/site-packages/demeter/model.py\u001b[0m in \u001b[0;36minitialize\u001b[0;34m(self)\u001b[0m\n\u001b[1;32m     40\u001b[0m \u001b[0;34m\u001b[0m\u001b[0m\n\u001b[1;32m     41\u001b[0m         \u001b[0;31m# prepare data for processing\u001b[0m\u001b[0;34m\u001b[0m\u001b[0;34m\u001b[0m\u001b[0;34m\u001b[0m\u001b[0m\n\u001b[0;32m---> 42\u001b[0;31m         \u001b[0mself\u001b[0m\u001b[0;34m.\u001b[0m\u001b[0ms\u001b[0m \u001b[0;34m=\u001b[0m \u001b[0mStage\u001b[0m\u001b[0;34m(\u001b[0m\u001b[0mself\u001b[0m\u001b[0;34m.\u001b[0m\u001b[0mconfig\u001b[0m\u001b[0;34m)\u001b[0m\u001b[0;34m\u001b[0m\u001b[0;34m\u001b[0m\u001b[0m\n\u001b[0m\u001b[1;32m     43\u001b[0m \u001b[0;34m\u001b[0m\u001b[0m\n\u001b[1;32m     44\u001b[0m         \u001b[0;31m# build step generator\u001b[0m\u001b[0;34m\u001b[0m\u001b[0;34m\u001b[0m\u001b[0;34m\u001b[0m\u001b[0m\n",
      "\u001b[0;32m~/.pyenv/versions/py3.9.4_demeter/lib/python3.9/site-packages/demeter/staging.py\u001b[0m in \u001b[0;36m__init__\u001b[0;34m(self, config)\u001b[0m\n\u001b[1;32m     84\u001b[0m \u001b[0;34m\u001b[0m\u001b[0m\n\u001b[1;32m     85\u001b[0m         \u001b[0;31m# populate\u001b[0m\u001b[0;34m\u001b[0m\u001b[0;34m\u001b[0m\u001b[0;34m\u001b[0m\u001b[0m\n\u001b[0;32m---> 86\u001b[0;31m         \u001b[0mself\u001b[0m\u001b[0;34m.\u001b[0m\u001b[0mstage\u001b[0m\u001b[0;34m(\u001b[0m\u001b[0;34m)\u001b[0m\u001b[0;34m\u001b[0m\u001b[0;34m\u001b[0m\u001b[0m\n\u001b[0m\u001b[1;32m     87\u001b[0m \u001b[0;34m\u001b[0m\u001b[0m\n\u001b[1;32m     88\u001b[0m     \u001b[0;32mdef\u001b[0m \u001b[0mprep_reference\u001b[0m\u001b[0;34m(\u001b[0m\u001b[0mself\u001b[0m\u001b[0;34m)\u001b[0m\u001b[0;34m:\u001b[0m\u001b[0;34m\u001b[0m\u001b[0;34m\u001b[0m\u001b[0m\n",
      "\u001b[0;32m~/.pyenv/versions/py3.9.4_demeter/lib/python3.9/site-packages/demeter/staging.py\u001b[0m in \u001b[0;36mstage\u001b[0;34m(self)\u001b[0m\n\u001b[1;32m    269\u001b[0m \u001b[0;34m\u001b[0m\u001b[0m\n\u001b[1;32m    270\u001b[0m         \u001b[0;31m# prepare base land use data\u001b[0m\u001b[0;34m\u001b[0m\u001b[0;34m\u001b[0m\u001b[0;34m\u001b[0m\u001b[0m\n\u001b[0;32m--> 271\u001b[0;31m         \u001b[0mself\u001b[0m\u001b[0;34m.\u001b[0m\u001b[0mprep_base\u001b[0m\u001b[0;34m(\u001b[0m\u001b[0;34m)\u001b[0m\u001b[0;34m\u001b[0m\u001b[0;34m\u001b[0m\u001b[0m\n\u001b[0m\u001b[1;32m    272\u001b[0m \u001b[0;34m\u001b[0m\u001b[0m\n\u001b[1;32m    273\u001b[0m         \u001b[0;31m# harmonize grid area between projected and base layer land allocation\u001b[0m\u001b[0;34m\u001b[0m\u001b[0;34m\u001b[0m\u001b[0;34m\u001b[0m\u001b[0m\n",
      "\u001b[0;32m~/.pyenv/versions/py3.9.4_demeter/lib/python3.9/site-packages/demeter/staging.py\u001b[0m in \u001b[0;36mprep_base\u001b[0;34m(self)\u001b[0m\n\u001b[1;32m    178\u001b[0m \u001b[0;34m\u001b[0m\u001b[0m\n\u001b[1;32m    179\u001b[0m         \u001b[0;31m# extract and process base layer land cover data\u001b[0m\u001b[0;34m\u001b[0m\u001b[0;34m\u001b[0m\u001b[0;34m\u001b[0m\u001b[0m\n\u001b[0;32m--> 180\u001b[0;31m         base_data = rdr.read_base(self.config, self.observed_landclasses, self.sequence_metric_dict,\n\u001b[0m\u001b[1;32m    181\u001b[0m                                   metric_seq=self.metric_sequence_list, region_seq=self.region_sequence_list)\n\u001b[1;32m    182\u001b[0m \u001b[0;34m\u001b[0m\u001b[0m\n",
      "\u001b[0;32m~/.pyenv/versions/py3.9.4_demeter/lib/python3.9/site-packages/demeter/demeter_io/reader.py\u001b[0m in \u001b[0;36mread_base\u001b[0;34m(config, observed_landclasses, sequence_metric_dict, metric_seq, region_seq, logger)\u001b[0m\n\u001b[1;32m    433\u001b[0m \u001b[0;34m\u001b[0m\u001b[0m\n\u001b[1;32m    434\u001b[0m     \u001b[0;32mif\u001b[0m \u001b[0mlen\u001b[0m\u001b[0;34m(\u001b[0m\u001b[0mvalid_region_test\u001b[0m\u001b[0;34m)\u001b[0m \u001b[0;34m>\u001b[0m \u001b[0;36m0\u001b[0m\u001b[0;34m:\u001b[0m\u001b[0;34m\u001b[0m\u001b[0;34m\u001b[0m\u001b[0m\n\u001b[0;32m--> 435\u001b[0;31m         \u001b[0mlogger\u001b[0m\u001b[0;34m.\u001b[0m\u001b[0merror\u001b[0m\u001b[0;34m(\u001b[0m\u001b[0;34m'Observed spatial data must have all regions represented.'\u001b[0m\u001b[0;34m)\u001b[0m\u001b[0;34m\u001b[0m\u001b[0;34m\u001b[0m\u001b[0m\n\u001b[0m\u001b[1;32m    436\u001b[0m         \u001b[0;32mraise\u001b[0m \u001b[0mValidationException\u001b[0m\u001b[0;34m\u001b[0m\u001b[0;34m\u001b[0m\u001b[0m\n\u001b[1;32m    437\u001b[0m \u001b[0;34m\u001b[0m\u001b[0m\n",
      "\u001b[0;31mAttributeError\u001b[0m: 'NoneType' object has no attribute 'error'"
     ]
    }
   ],
   "source": [
    "demeter.run_model(config_file=config_file)\n"
   ]
  },
  {
   "cell_type": "code",
   "execution_count": null,
   "id": "b55274fa-36af-4625-9c6a-e0c29a621357",
   "metadata": {},
   "outputs": [],
   "source": []
  }
 ],
 "metadata": {
  "kernelspec": {
   "display_name": "py3.9.4_demeter",
   "language": "python",
   "name": "py3.9.4_demeter"
  },
  "language_info": {
   "codemirror_mode": {
    "name": "ipython",
    "version": 3
   },
   "file_extension": ".py",
   "mimetype": "text/x-python",
   "name": "python",
   "nbconvert_exporter": "python",
   "pygments_lexer": "ipython3",
   "version": "3.9.4"
  }
 },
 "nbformat": 4,
 "nbformat_minor": 5
}
